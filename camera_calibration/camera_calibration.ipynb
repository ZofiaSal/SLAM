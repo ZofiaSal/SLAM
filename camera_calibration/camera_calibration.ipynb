{
 "cells": [
  {
   "cell_type": "code",
   "execution_count": null,
   "metadata": {},
   "outputs": [],
   "source": [
    "import cv2\n",
    "import glob\n",
    "import matplotlib.pyplot as plt\n",
    "import cv2.aruco as aruco\n",
    "\n",
    "# https://docs.opencv.org/4.7.0/df/d4a/tutorial_charuco_detection.html - jest do niczego\n",
    "# opencv 4.7.0 - wszystko na nim robię"
   ]
  },
  {
   "cell_type": "code",
   "execution_count": null,
   "metadata": {},
   "outputs": [],
   "source": [
    "images = sorted(glob.glob('./chessboard_photos_for_calibration/nie_dziala/*.jpg'))\n",
    "dictionary = aruco.getPredefinedDictionary(aruco.DICT_4X4_250)\n",
    "\n",
    "img_points = []\n",
    "corners_all = []\n",
    "good_images = []\n",
    "for iname in images:\n",
    "    img = cv2.imread(iname)\n",
    "    gray = cv2.cvtColor(img, cv2.COLOR_BGR2GRAY)\n",
    "    \n",
    "    board = aruco.CharucoBoard((6, 5), 0.0184, 0.015, dictionary)\n",
    "\n",
    "    #parameters = aruco.DetectorParameters()\n",
    "    detector = aruco.CharucoDetector(board)\n",
    "    charuco_corners, charuco_ids, marker_corners, marker_ids = detector.detectBoard(\n",
    "            image=gray)\n",
    "\n",
    "    img = aruco.drawDetectedMarkers(\n",
    "            image=img, \n",
    "            corners=marker_corners)\n",
    "    img = aruco.drawDetectedCornersCharuco(\n",
    "            image=img,\n",
    "            charucoCorners=charuco_corners,\n",
    "            charucoIds=charuco_ids)\n",
    "    if len(charuco_corners) == 20:\n",
    "        good_images.append(iname)\n",
    "        img_points.append(charuco_corners)\n",
    "        assert tuple(charuco_ids) == tuple([[i] for i in range(20)])\n",
    "        corners_all.append(board.getChessboardCorners())"
   ]
  },
  {
   "cell_type": "code",
   "execution_count": null,
   "metadata": {},
   "outputs": [],
   "source": [
    "calibration, cameraMatrix, distCoeffs, rvecs, tvecs = cv2.calibrateCamera(\n",
    "        objectPoints=corners_all,\n",
    "        imagePoints=img_points,\n",
    "        imageSize=(1280,720),\n",
    "        cameraMatrix=None,\n",
    "        distCoeffs=None)\n"
   ]
  },
  {
   "cell_type": "code",
   "execution_count": null,
   "metadata": {},
   "outputs": [],
   "source": [
    "print(calibration)\n",
    "print(cameraMatrix)\n",
    "print(distCoeffs)\n",
    "#print(rvecs)\n",
    "#print(tvecs)"
   ]
  },
  {
   "cell_type": "code",
   "execution_count": null,
   "metadata": {},
   "outputs": [],
   "source": [
    "points3D = board.getChessboardCorners() # coordinates of the chessboard corners in the chessboard coordinate system\n",
    "points3Da = points3D + [[0, 0, 0.01]]   # like points3D, but with a point 1cm under the chessboard\n",
    "for i in range(len(good_images)):\n",
    "    tvec = tvecs[i]\n",
    "    rvec = rvecs[i]\n",
    "    img = cv2.imread(good_images[i])\n",
    "    img = cv2.drawFrameAxes(img, cameraMatrix, distCoeffs, rvec, tvec, 0.1) # draw the chessboard coordinate system\n",
    "    \n",
    "    # draw green corners on the chessboard\n",
    "    p = cv2.projectPoints(points3D, rvec, tvec, cameraMatrix, distCoeffs)[0]\n",
    "    for x, y in p[:,0,:]:\n",
    "        img = cv2.circle(img, (round(x), round(y)), radius=5, color=(0, 255, 0), thickness=-1)\n",
    "    \n",
    "    # draw red corners under the chessboard\n",
    "    p = cv2.projectPoints(points3Da, rvec, tvec, cameraMatrix, distCoeffs)[0]\n",
    "    for x, y in p[:,0,:]:\n",
    "        img = cv2.circle(img, (round(x), round(y)), radius=5, color=(255, 0, 0), thickness=-1)\n",
    "    \n",
    "    img = cv2.undistort(img, cameraMatrix, distCoeffs, None, cameraMatrix) # undistort the image (get's crazy)\n",
    "    \n",
    "    plt.imshow(img)\n",
    "    plt.show()"
   ]
  }
 ],
 "metadata": {
  "kernelspec": {
   "display_name": "bullet",
   "language": "python",
   "name": "python3"
  },
  "language_info": {
   "codemirror_mode": {
    "name": "ipython",
    "version": 3
   },
   "file_extension": ".py",
   "mimetype": "text/x-python",
   "name": "python",
   "nbconvert_exporter": "python",
   "pygments_lexer": "ipython3",
   "version": "3.8.15"
  },
  "orig_nbformat": 4
 },
 "nbformat": 4,
 "nbformat_minor": 2
}
