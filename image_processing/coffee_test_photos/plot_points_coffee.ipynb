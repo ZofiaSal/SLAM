{
 "cells": [
  {
   "cell_type": "code",
   "execution_count": 70,
   "metadata": {},
   "outputs": [
    {
     "name": "stdout",
     "output_type": "stream",
     "text": [
      "4.7.0\n"
     ]
    }
   ],
   "source": [
    "import cv2 # should be 4.7\n",
    "import glob\n",
    "import matplotlib.pyplot as plt\n",
    "import cv2.aruco as aruco\n",
    "import numpy as np\n",
    "\n",
    "print( cv2.__version__)"
   ]
  },
  {
   "cell_type": "code",
   "execution_count": 71,
   "metadata": {},
   "outputs": [],
   "source": [
    "# OUR FINAL CAMERA CALIBRATION MATRIX\n",
    "calibration = 0.6442544274536695\n",
    "cameraMatrix = np.array([[932.35252209,   0.,         657.24325896],\n",
    " [  0.,         930.23581552, 357.42939289],\n",
    " [  0.,           0.,           1.        ]])\n",
    "distCoeffs = np.array([[ 1.76279343e-01, -6.07952723e-01, -4.64176532e-04, -4.96839648e-04, 6.04867450e-01]])"
   ]
  },
  {
   "cell_type": "code",
   "execution_count": 72,
   "metadata": {},
   "outputs": [
    {
     "name": "stdout",
     "output_type": "stream",
     "text": [
      "2\n"
     ]
    }
   ],
   "source": [
    "RELATIVE_PATH_CUBE = './*.jpg'\n",
    "images_cube = sorted(glob.glob(RELATIVE_PATH_CUBE))\n",
    "print(len(images_cube))\n",
    "\n",
    "# points3dOnCube = np.array([ [[0., -8.7, 30.,]],\n",
    "#                             [[2.0, -8.7, 24.2]]])\n",
    "\n",
    "points3dOnCube = np.array([\n",
    "    [[8.2, 1.3, 30.],\n",
    "     [8.2, 1.3, 33.],\n",
    "     [0.0, 1.3, 33.],\n",
    "     [0.0, 1.3, 30.],\n",
    "     [8.2, -5.5, 30.],\n",
    "     [8.2, -5.5, 33.],\n",
    "     [0.0, -5.5, 33.],\n",
    "     [0.0, -5.5, 30.]],\n",
    "    [[8.2 - 10., 1.3, 30. - 8.],\n",
    "     [8.2 - 10., 1.3, 33. - 8.],\n",
    "     [ - 10., 1.3, 33. - 8.],\n",
    "     [ - 10., 1.3, 30. - 8.],\n",
    "     [8.2 - 10., -5.5, 30. - 8.],\n",
    "     [8.2 - 10., -5.5, 33. - 8.],\n",
    "     [ - 10., -5.5, 33. - 8.],\n",
    "     [ - 10., -5.5, 30. - 8.]], \n",
    "    [[9.1, 1.3, 19.9],\n",
    "     [10.5, 1.3, 22.5],\n",
    "     [3.4, 1.3, 26.8],\n",
    "     [-2., 1.3, 24.1],\n",
    "     [9.1, -5.5, 19.9],\n",
    "     [10.5, -5.5, 22.5],\n",
    "     [3.4, -5.5, 26.8],\n",
    "     [-2., -5.5, 24.1]] \n",
    "])\n"
   ]
  },
  {
   "cell_type": "code",
   "execution_count": 73,
   "metadata": {},
   "outputs": [
    {
     "ename": "ValueError",
     "evalue": "not enough values to unpack (expected 2, got 0)",
     "output_type": "error",
     "traceback": [
      "\u001b[0;31m---------------------------------------------------------------------------\u001b[0m",
      "\u001b[0;31mValueError\u001b[0m                                Traceback (most recent call last)",
      "Cell \u001b[0;32mIn[73], line 2\u001b[0m\n\u001b[1;32m      1\u001b[0m count \u001b[39m=\u001b[39m \u001b[39m0\u001b[39m\n\u001b[0;32m----> 2\u001b[0m points1 \u001b[39m=\u001b[39m [], points2 \u001b[39m=\u001b[39m []\n\u001b[1;32m      3\u001b[0m \u001b[39mfor\u001b[39;00m i \u001b[39min\u001b[39;00m \u001b[39mrange\u001b[39m(\u001b[39mlen\u001b[39m(images_cube)):\n\u001b[1;32m      4\u001b[0m     \u001b[39mif\u001b[39;00m i \u001b[39m<\u001b[39m\u001b[39m=\u001b[39m \u001b[39m100\u001b[39m:\n",
      "\u001b[0;31mValueError\u001b[0m: not enough values to unpack (expected 2, got 0)"
     ]
    }
   ],
   "source": [
    "count = 0\n",
    "points1_coffee = []\n",
    "points2_coffee = []\n",
    "for i in range(len(images_cube)):\n",
    "    if i <= 100:\n",
    "        points3dOnCube1 = points3dOnCube[i]\n",
    "        img = cv2.imread(images_cube[i])\n",
    "        \n",
    "        img = cv2.drawFrameAxes(img, cameraMatrix, distCoeffs, np.array([0.0, 0.0, 0.0]), np.array([0.0, 0.0, 1.0]), 0.1) # draw the chessboard coordinate system\n",
    "\n",
    "        # project the 3D point onto the image\n",
    "        point_2d, _ = cv2.projectPoints(points3dOnCube1, np.array([0.0, 0.0, 0.0]), np.array([0.0, 0.0, 1.0]), cameraMatrix, distCoeffs)\n",
    "\n",
    "        # round the pixel coordinates to integers\n",
    "        point_2d = np.round(point_2d).astype(np.int32)\n",
    "        \n",
    "        print(\"point_2d:  \", point_2d)\n",
    "        if i == 0:\n",
    "            points1_coffee = point_2d\n",
    "        if i == 1:\n",
    "            points2_coffee = point_2d\n",
    "        colors=[(0, 0, 255), (0, 255, 0), (255, 0, 0), (0, 0, 0), (0, 0, 0), (0, 0, 0), (0, 0, 0), (0, 0, 0), (0, 0, 0)]\n",
    "    \n",
    "        for x, y in point_2d[:,0,:]:\n",
    "            img = cv2.circle(img, (x, y), radius=5, color=(255,0,0), thickness=-1)\n",
    "            i += 1\n",
    "\n",
    "        img = cv2.undistort(img, cameraMatrix, distCoeffs, None, cameraMatrix) # undistort the image (get's crazy)\n",
    "\n",
    "        # uncomment this to see the result!\n",
    "        plt.imshow(img)\n",
    "        plt.show()\n",
    "    \n",
    "    count += 1"
   ]
  },
  {
   "cell_type": "code",
   "execution_count": null,
   "metadata": {},
   "outputs": [],
   "source": [
    "points1_coffee\n",
    "points2_coffee"
   ]
  }
 ],
 "metadata": {
  "kernelspec": {
   "display_name": "zpp",
   "language": "python",
   "name": "python3"
  },
  "language_info": {
   "codemirror_mode": {
    "name": "ipython",
    "version": 3
   },
   "file_extension": ".py",
   "mimetype": "text/x-python",
   "name": "python",
   "nbconvert_exporter": "python",
   "pygments_lexer": "ipython3",
   "version": "3.9.16"
  },
  "orig_nbformat": 4
 },
 "nbformat": 4,
 "nbformat_minor": 2
}
