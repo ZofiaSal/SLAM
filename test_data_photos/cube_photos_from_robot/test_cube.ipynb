{
 "cells": [
  {
   "cell_type": "code",
   "execution_count": 1,
   "metadata": {},
   "outputs": [
    {
     "name": "stdout",
     "output_type": "stream",
     "text": [
      "4.7.0\n"
     ]
    }
   ],
   "source": [
    "import cv2 # should be 4.7\n",
    "import glob\n",
    "import matplotlib.pyplot as plt\n",
    "import cv2.aruco as aruco\n",
    "import numpy as np\n",
    "\n",
    "print( cv2.__version__)"
   ]
  },
  {
   "cell_type": "code",
   "execution_count": 2,
   "metadata": {},
   "outputs": [],
   "source": [
    "# OUR FINAL CAMERA CALIBRATION MATRIX\n",
    "calibration = 0.6442544274536695\n",
    "cameraMatrix = np.array([[932.35252209,   0.,         657.24325896],\n",
    " [  0.,         930.23581552, 357.42939289],\n",
    " [  0.,           0.,           1.        ]])\n",
    "distCoeffs = np.array([[ 1.76279343e-01, -6.07952723e-01, -4.64176532e-04, -4.96839648e-04, 6.04867450e-01]])"
   ]
  },
  {
   "cell_type": "code",
   "execution_count": 3,
   "metadata": {},
   "outputs": [],
   "source": [
    "def produce_cube_points(x, z):\n",
    "    y = 1.3\n",
    "    A = np.array([[x, y, z],\n",
    "                  [x, y -  6., z],\n",
    "                  [x - 6., y -  6., z],\n",
    "                  [x - 6., y, z],\n",
    "                  [x, y, z + 6.],\n",
    "                  [x, y -  6., z + 6.],\n",
    "                  [x - 6., y -  6., z + 6.],\n",
    "                  [x - 6., y, z + 6.]])\n",
    "    return A"
   ]
  },
  {
   "cell_type": "code",
   "execution_count": 4,
   "metadata": {},
   "outputs": [
    {
     "name": "stdout",
     "output_type": "stream",
     "text": [
      "19\n"
     ]
    }
   ],
   "source": [
    "RELATIVE_PATH_CUBE = './*.jpg'\n",
    "images_cube = sorted(glob.glob(RELATIVE_PATH_CUBE))\n",
    "print(len(images_cube))\n",
    "\n",
    "points3dOnCube = np.array([produce_cube_points(0., 20.),\n",
    "                          produce_cube_points(5., 20.),\n",
    "                          produce_cube_points(10., 20.),\n",
    "                          produce_cube_points(15., 20.),\n",
    "                          produce_cube_points(-5., 20.),\n",
    "                          produce_cube_points(-10., 20.),\n",
    "                          produce_cube_points(0., 25.),\n",
    "                          produce_cube_points(5., 25.),\n",
    "                          produce_cube_points(10., 25.),\n",
    "                          produce_cube_points(15., 25.),\n",
    "                          produce_cube_points(-5., 25.),\n",
    "                          produce_cube_points(-10., 25.),\n",
    "                          produce_cube_points(-15., 25.),\n",
    "                          produce_cube_points(0., 30.),\n",
    "                          produce_cube_points(5., 30.),\n",
    "                          produce_cube_points(-5., 30.),\n",
    "                          [[12.3, 1.3, 23.6],\n",
    "                           [12.3, -4.7, 23.6],\n",
    "                           [14.8, 1.3, 28.7],\n",
    "                           [14.8, -4.7, 28.7],\n",
    "                           [9.6, 1.3, 31.5],\n",
    "                           [9.6, -4.7, 31.5],\n",
    "                           [6.3, 1.3, 23.2],\n",
    "                           [6.3, -4.7, 23.2]\n",
    "                           ],\n",
    "                          [[-8.4, 1.3, 29.8],\n",
    "                           [-8.4, -4.7, 29.8],\n",
    "                           [-3.3, 1.3, 25.3],\n",
    "                           [-3.3, -4.7, 25.3],\n",
    "                           [0.5, 1.3, 29.1],\n",
    "                           [0.5, -4.7, 29.1],\n",
    "                           [-3.9, 1.3, 32.5],\n",
    "                           [-3.9, -4.7, 32.5]],\n",
    "                          [[-12.8, 1.3, 24.4],\n",
    "                           [-12.8, -4.7, 24.4],\n",
    "                           [-6.9, 1.3, 21.7],\n",
    "                           [-6.9, -4.7, 21.7],\n",
    "                           [-4.4, 1.3, 27.0],\n",
    "                           [-4.4, -4.7, 27.0],\n",
    "                           [-10., 1.3, 29.7],\n",
    "                           [-10., -4.7, 29.7]\n",
    "                           ]     ])\n"
   ]
  },
  {
   "cell_type": "code",
   "execution_count": 5,
   "metadata": {},
   "outputs": [],
   "source": [
    "count = 0\n",
    "for i in range(len(images_cube)):\n",
    "    if i <= 100:\n",
    "        points3dOnCube1 = points3dOnCube[i]\n",
    "        img = cv2.imread(images_cube[i])\n",
    "        \n",
    "        img = cv2.drawFrameAxes(img, cameraMatrix, distCoeffs, np.array([0.0, 0.0, 0.0]), np.array([0.0, 0.0, 1.0]), 0.1) # draw the chessboard coordinate system\n",
    "\n",
    "        # project the 3D point onto the image\n",
    "        point_2d, _ = cv2.projectPoints(points3dOnCube1, np.array([0.0, 0.0, 0.0]), np.array([0.0, 0.0, 1.0]), cameraMatrix, distCoeffs)\n",
    "\n",
    "        # round the pixel coordinates to integers\n",
    "        point_2d = np.round(point_2d).astype(np.int32)\n",
    "        \n",
    "        # print(\"point_2d:  \", point_2d)\n",
    "        colors=[(0, 0, 255), (0, 255, 0), (255, 0, 0), (0, 0, 0), (0, 0, 0), (0, 0, 0), (0, 0, 0), (0, 0, 0), (0, 0, 0)]\n",
    "    \n",
    "        for x, y in point_2d[:,0,:]:\n",
    "            img = cv2.circle(img, (x, y), radius=5, color=(255,0,0), thickness=-1)\n",
    "            i += 1\n",
    "\n",
    "        img = cv2.undistort(img, cameraMatrix, distCoeffs, None, cameraMatrix) # undistort the image (get's crazy)\n",
    "\n",
    "        # uncomment this to see the result!\n",
    "        # plt.imshow(img)\n",
    "        # plt.show()\n",
    "    \n",
    "    count += 1"
   ]
  },
  {
   "cell_type": "code",
   "execution_count": null,
   "metadata": {},
   "outputs": [],
   "source": []
  }
 ],
 "metadata": {
  "kernelspec": {
   "display_name": "zpp",
   "language": "python",
   "name": "python3"
  },
  "language_info": {
   "codemirror_mode": {
    "name": "ipython",
    "version": 3
   },
   "file_extension": ".py",
   "mimetype": "text/x-python",
   "name": "python",
   "nbconvert_exporter": "python",
   "pygments_lexer": "ipython3",
   "version": "3.9.16"
  },
  "orig_nbformat": 4
 },
 "nbformat": 4,
 "nbformat_minor": 2
}
